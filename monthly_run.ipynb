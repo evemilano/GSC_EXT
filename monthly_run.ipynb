{
 "cells": [
  {
   "cell_type": "code",
   "execution_count": null,
   "metadata": {},
   "outputs": [],
   "source": [
    "import nbformat\n",
    "from nbconvert.preprocessors import ExecutePreprocessor\n",
    "\n",
    "def run_notebook(notebook_path, brand_name):\n",
    "    \"\"\"\n",
    "    Esegue un Jupyter Notebook e modifica il valore della variabile query_brand.\n",
    "    \n",
    "    Parametri:\n",
    "    - notebook_path (str): Percorso del notebook da eseguire.\n",
    "    - brand_name (str): Nuovo valore da impostare per la variabile query_brand nel notebook.\n",
    "    \"\"\"\n",
    "    \n",
    "    # Leggi il contenuto del notebook\n",
    "    with open(notebook_path, 'r', encoding='utf-8') as f:\n",
    "        notebook = nbformat.read(f, as_version=4)\n",
    "\n",
    "    # Modifica il valore della variabile query_brand nel notebook\n",
    "    for cell in notebook.cells:\n",
    "        if \"query_brand =\" in cell.source:\n",
    "            # Trova la riga esatta e sostituisci il valore\n",
    "            cell.source = f\"query_brand = '{brand_name}'\"\n",
    "\n",
    "    # Esegui il notebook\n",
    "    ep = ExecutePreprocessor(timeout=600, kernel_name='python3')\n",
    "    ep.preprocess(notebook, {'metadata': {'path': './'}})\n",
    "\n",
    "# Esempio di utilizzo:\n",
    "# Esegui il notebook con diversi valori per query_brand\n",
    "brands = ['whuert|whuerth|whurt|whurth|wuert|wuerth|wuerth.it|wueth|wurh|wurt|wurth|würth|wurth.it|wuth|www.wuerth.it|www.wurth|www.wurth.it', 'eve milano|evemilano|giovanni|sacheli']\n",
    "for brand in brands:\n",
    "    run_notebook(\"2023_gsc_extractor_v4.51_giogpt-turbo_only IT_cluster.ipynb\", brand)\n"
   ]
  }
 ],
 "metadata": {
  "language_info": {
   "name": "python"
  },
  "orig_nbformat": 4
 },
 "nbformat": 4,
 "nbformat_minor": 2
}
